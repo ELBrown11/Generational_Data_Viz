{
  "nbformat": 4,
  "nbformat_minor": 0,
  "metadata": {
    "colab": {
      "name": "GraphingExercise.ipynb",
      "provenance": [],
      "mount_file_id": "1aH8mE7MZZ6dima4O2Xz7vPGYoedJlXHn",
      "authorship_tag": "ABX9TyMTtft0J6XQ3pJ5blmmKYvo",
      "include_colab_link": true
    },
    "kernelspec": {
      "name": "python3",
      "display_name": "Python 3"
    },
    "language_info": {
      "name": "python"
    }
  },
  "cells": [
    {
      "cell_type": "markdown",
      "metadata": {
        "id": "view-in-github",
        "colab_type": "text"
      },
      "source": [
        "<a href=\"https://colab.research.google.com/github/ELBrown11/Generational_Data_Viz/blob/main/GraphingExercise.ipynb\" target=\"_parent\"><img src=\"https://colab.research.google.com/assets/colab-badge.svg\" alt=\"Open In Colab\"/></a>"
      ]
    },
    {
      "cell_type": "code",
      "metadata": {
        "colab": {
          "base_uri": "https://localhost:8080/"
        },
        "id": "cm1VNuZIf3TL",
        "outputId": "45a40840-485f-4c31-eb7b-0a0469915d56"
      },
      "source": [
        "#mount data\n",
        "from google.colab import drive\n",
        "drive.mount('/content/drive')"
      ],
      "execution_count": null,
      "outputs": [
        {
          "output_type": "stream",
          "name": "stdout",
          "text": [
            "Drive already mounted at /content/drive; to attempt to forcibly remount, call drive.mount(\"/content/drive\", force_remount=True).\n"
          ]
        }
      ]
    },
    {
      "cell_type": "code",
      "metadata": {
        "id": "XSuzIh-egB6l"
      },
      "source": [
        "#import libraries\n",
        "import pandas as pd\n",
        "import matplotlib.pyplot as plt\n",
        "import seaborn as sns"
      ],
      "execution_count": null,
      "outputs": []
    },
    {
      "cell_type": "code",
      "metadata": {
        "colab": {
          "base_uri": "https://localhost:8080/",
          "height": 917
        },
        "id": "0pZQeFolgJGk",
        "outputId": "c026148b-8c78-44d5-e469-a10d9c4c99ec"
      },
      "source": [
        "filename = '/content/drive/MyDrive/Consumer Spending by Generation.csv'\n",
        "gen_data = pd.read_csv(filename)\n",
        "gen_data"
      ],
      "execution_count": null,
      "outputs": [
        {
          "output_type": "execute_result",
          "data": {
            "text/html": [
              "<div>\n",
              "<style scoped>\n",
              "    .dataframe tbody tr th:only-of-type {\n",
              "        vertical-align: middle;\n",
              "    }\n",
              "\n",
              "    .dataframe tbody tr th {\n",
              "        vertical-align: top;\n",
              "    }\n",
              "\n",
              "    .dataframe thead th {\n",
              "        text-align: right;\n",
              "    }\n",
              "</style>\n",
              "<table border=\"1\" class=\"dataframe\">\n",
              "  <thead>\n",
              "    <tr style=\"text-align: right;\">\n",
              "      <th></th>\n",
              "      <th>Generation</th>\n",
              "      <th>Category</th>\n",
              "      <th>% of Spending</th>\n",
              "    </tr>\n",
              "  </thead>\n",
              "  <tbody>\n",
              "    <tr>\n",
              "      <th>0</th>\n",
              "      <td>Millenials</td>\n",
              "      <td>Restaurants</td>\n",
              "      <td>0.238</td>\n",
              "    </tr>\n",
              "    <tr>\n",
              "      <th>1</th>\n",
              "      <td>Millenials</td>\n",
              "      <td>Groceries</td>\n",
              "      <td>0.217</td>\n",
              "    </tr>\n",
              "    <tr>\n",
              "      <th>2</th>\n",
              "      <td>Millenials</td>\n",
              "      <td>Gasoline</td>\n",
              "      <td>0.108</td>\n",
              "    </tr>\n",
              "    <tr>\n",
              "      <th>3</th>\n",
              "      <td>Millenials</td>\n",
              "      <td>Pharmacies</td>\n",
              "      <td>0.030</td>\n",
              "    </tr>\n",
              "    <tr>\n",
              "      <th>4</th>\n",
              "      <td>Millenials</td>\n",
              "      <td>Furniture/Building</td>\n",
              "      <td>0.045</td>\n",
              "    </tr>\n",
              "    <tr>\n",
              "      <th>5</th>\n",
              "      <td>Millenials</td>\n",
              "      <td>Elec/Hobbies/Clothing</td>\n",
              "      <td>0.185</td>\n",
              "    </tr>\n",
              "    <tr>\n",
              "      <th>6</th>\n",
              "      <td>Millenials</td>\n",
              "      <td>General/Misc</td>\n",
              "      <td>0.177</td>\n",
              "    </tr>\n",
              "    <tr>\n",
              "      <th>7</th>\n",
              "      <td>Generation X</td>\n",
              "      <td>Restaurants</td>\n",
              "      <td>0.177</td>\n",
              "    </tr>\n",
              "    <tr>\n",
              "      <th>8</th>\n",
              "      <td>Generation X</td>\n",
              "      <td>Groceries</td>\n",
              "      <td>0.253</td>\n",
              "    </tr>\n",
              "    <tr>\n",
              "      <th>9</th>\n",
              "      <td>Generation X</td>\n",
              "      <td>Gasoline</td>\n",
              "      <td>0.097</td>\n",
              "    </tr>\n",
              "    <tr>\n",
              "      <th>10</th>\n",
              "      <td>Generation X</td>\n",
              "      <td>Pharmacies</td>\n",
              "      <td>0.029</td>\n",
              "    </tr>\n",
              "    <tr>\n",
              "      <th>11</th>\n",
              "      <td>Generation X</td>\n",
              "      <td>Furniture/Building</td>\n",
              "      <td>0.073</td>\n",
              "    </tr>\n",
              "    <tr>\n",
              "      <th>12</th>\n",
              "      <td>Generation X</td>\n",
              "      <td>Elec/Hobbies/Clothing</td>\n",
              "      <td>0.168</td>\n",
              "    </tr>\n",
              "    <tr>\n",
              "      <th>13</th>\n",
              "      <td>Generation X</td>\n",
              "      <td>General/Misc</td>\n",
              "      <td>0.203</td>\n",
              "    </tr>\n",
              "    <tr>\n",
              "      <th>14</th>\n",
              "      <td>Baby Boomers</td>\n",
              "      <td>Restaurants</td>\n",
              "      <td>0.135</td>\n",
              "    </tr>\n",
              "    <tr>\n",
              "      <th>15</th>\n",
              "      <td>Baby Boomers</td>\n",
              "      <td>Groceries</td>\n",
              "      <td>0.272</td>\n",
              "    </tr>\n",
              "    <tr>\n",
              "      <th>16</th>\n",
              "      <td>Baby Boomers</td>\n",
              "      <td>Gasoline</td>\n",
              "      <td>0.085</td>\n",
              "    </tr>\n",
              "    <tr>\n",
              "      <th>17</th>\n",
              "      <td>Baby Boomers</td>\n",
              "      <td>Pharmacies</td>\n",
              "      <td>0.037</td>\n",
              "    </tr>\n",
              "    <tr>\n",
              "      <th>18</th>\n",
              "      <td>Baby Boomers</td>\n",
              "      <td>Furniture/Building</td>\n",
              "      <td>0.100</td>\n",
              "    </tr>\n",
              "    <tr>\n",
              "      <th>19</th>\n",
              "      <td>Baby Boomers</td>\n",
              "      <td>Elec/Hobbies/Clothing</td>\n",
              "      <td>0.147</td>\n",
              "    </tr>\n",
              "    <tr>\n",
              "      <th>20</th>\n",
              "      <td>Baby Boomers</td>\n",
              "      <td>General/Misc</td>\n",
              "      <td>0.223</td>\n",
              "    </tr>\n",
              "    <tr>\n",
              "      <th>21</th>\n",
              "      <td>Traditionalists</td>\n",
              "      <td>Restaurants</td>\n",
              "      <td>0.128</td>\n",
              "    </tr>\n",
              "    <tr>\n",
              "      <th>22</th>\n",
              "      <td>Traditionalists</td>\n",
              "      <td>Groceries</td>\n",
              "      <td>0.304</td>\n",
              "    </tr>\n",
              "    <tr>\n",
              "      <th>23</th>\n",
              "      <td>Traditionalists</td>\n",
              "      <td>Gasoline</td>\n",
              "      <td>0.067</td>\n",
              "    </tr>\n",
              "    <tr>\n",
              "      <th>24</th>\n",
              "      <td>Traditionalists</td>\n",
              "      <td>Pharmacies</td>\n",
              "      <td>0.064</td>\n",
              "    </tr>\n",
              "    <tr>\n",
              "      <th>25</th>\n",
              "      <td>Traditionalists</td>\n",
              "      <td>Furniture/Building</td>\n",
              "      <td>0.094</td>\n",
              "    </tr>\n",
              "    <tr>\n",
              "      <th>26</th>\n",
              "      <td>Traditionalists</td>\n",
              "      <td>Elec/Hobbies/Clothing</td>\n",
              "      <td>0.118</td>\n",
              "    </tr>\n",
              "    <tr>\n",
              "      <th>27</th>\n",
              "      <td>Traditionalists</td>\n",
              "      <td>General/Misc</td>\n",
              "      <td>0.225</td>\n",
              "    </tr>\n",
              "  </tbody>\n",
              "</table>\n",
              "</div>"
            ],
            "text/plain": [
              "         Generation               Category  % of Spending\n",
              "0        Millenials            Restaurants          0.238\n",
              "1        Millenials              Groceries          0.217\n",
              "2        Millenials               Gasoline          0.108\n",
              "3        Millenials             Pharmacies          0.030\n",
              "4        Millenials     Furniture/Building          0.045\n",
              "5        Millenials  Elec/Hobbies/Clothing          0.185\n",
              "6        Millenials           General/Misc          0.177\n",
              "7      Generation X            Restaurants          0.177\n",
              "8      Generation X              Groceries          0.253\n",
              "9      Generation X               Gasoline          0.097\n",
              "10     Generation X             Pharmacies          0.029\n",
              "11     Generation X     Furniture/Building          0.073\n",
              "12     Generation X  Elec/Hobbies/Clothing          0.168\n",
              "13     Generation X           General/Misc          0.203\n",
              "14     Baby Boomers            Restaurants          0.135\n",
              "15     Baby Boomers              Groceries          0.272\n",
              "16     Baby Boomers               Gasoline          0.085\n",
              "17     Baby Boomers             Pharmacies          0.037\n",
              "18     Baby Boomers     Furniture/Building          0.100\n",
              "19     Baby Boomers  Elec/Hobbies/Clothing          0.147\n",
              "20     Baby Boomers           General/Misc          0.223\n",
              "21  Traditionalists            Restaurants          0.128\n",
              "22  Traditionalists              Groceries          0.304\n",
              "23  Traditionalists               Gasoline          0.067\n",
              "24  Traditionalists             Pharmacies          0.064\n",
              "25  Traditionalists     Furniture/Building          0.094\n",
              "26  Traditionalists  Elec/Hobbies/Clothing          0.118\n",
              "27  Traditionalists           General/Misc          0.225"
            ]
          },
          "metadata": {},
          "execution_count": 12
        }
      ]
    },
    {
      "cell_type": "code",
      "metadata": {
        "id": "ppeNwcfUivYM"
      },
      "source": [
        "#generataional filters\n",
        "millenials  = gen_data['Generation'] == 'Millenials'\n",
        "gen_x = gen_data['Generation'] == 'Generation X'\n",
        "bb = gen_data['Generation'] == 'Baby Boomers'\n",
        "trads = gen_data['Generation'] == 'Traditionalists'\n",
        "\n",
        "\n",
        "#plt.plot(gen_data['Generation'] == 'Millenials',gen_data[])"
      ],
      "execution_count": null,
      "outputs": []
    },
    {
      "cell_type": "code",
      "metadata": {
        "id": "ekO9bJ24jxpm"
      },
      "source": [
        "#dataframe for each generation\n",
        "millenial_data = gen_data[millenials]\n",
        "gen_x_data = gen_data[gen_x]\n",
        "bb_data = gen_data[bb]\n",
        "trads_data = gen_data[trads]"
      ],
      "execution_count": null,
      "outputs": []
    },
    {
      "cell_type": "code",
      "metadata": {
        "colab": {
          "base_uri": "https://localhost:8080/",
          "height": 362
        },
        "id": "2Ebjp7iWkY1I",
        "outputId": "4fb1e6d8-66f1-4188-9d1d-2827a41ec974"
      },
      "source": [
        "plt.style.use('seaborn')\n",
        "plt.subplot(2,2 , 1);\n",
        "plt.barh(millenial_data['Category'], millenial_data['% of Spending'])\n",
        "plt.title('Millenials');\n",
        "\n",
        "plt.subplot(2, 2, 2);\n",
        "plt.barh(gen_x_data['Category'], gen_x_data['% of Spending'])\n",
        "plt.title('Generation X');\n",
        "\n",
        "plt.subplot(2, 2, 3);\n",
        "plt.barh(bb_data['Category'], bb_data['% of Spending'])\n",
        "plt.title('Baby Boomers');\n",
        "\n",
        "plt.subplot(2, 2, 4);\n",
        "plt.barh(trads_data['Category'], trads_data['% of Spending'])\n",
        "plt.title('Traditionalists');\n",
        "\n",
        "plt.subplots_adjust(wspace=.9,\n",
        "                      hspace=.5)\n",
        "                    "
      ],
      "execution_count": null,
      "outputs": [
        {
          "output_type": "display_data",
          "data": {
            "image/png": "[encoded data removed]",
            "text/plain": [
              "<Figure size 576x396 with 4 Axes>"
            ]
          },
          "metadata": {}
        }
      ]
    }
  ]
}